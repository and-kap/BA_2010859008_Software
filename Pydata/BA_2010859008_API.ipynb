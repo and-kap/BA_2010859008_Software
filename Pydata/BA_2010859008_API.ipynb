{
 "cells": [
  {
   "cell_type": "markdown",
   "id": "51ac78a7",
   "metadata": {},
   "source": [
    "# Bachelorarbeit - Evaluierung und Vergleich der Front-End Technologien Angular und React\n",
    "## Andreas Kappel, BSWE, 2010859008"
   ]
  },
  {
   "cell_type": "code",
   "execution_count": 1,
   "id": "bfb88e01",
   "metadata": {},
   "outputs": [],
   "source": [
    "# Python ≥3.5 is required\n",
    "import sys\n",
    "assert sys.version_info >= (3, 5)"
   ]
  },
  {
   "cell_type": "code",
   "execution_count": 2,
   "id": "0eca7ed3",
   "metadata": {},
   "outputs": [],
   "source": [
    "import numpy as np\n",
    "import matplotlib.pyplot as plt\n",
    "import pandas as pd\n",
    "import scipy as sp"
   ]
  },
  {
   "cell_type": "markdown",
   "id": "2063ac5e",
   "metadata": {},
   "source": [
    "### Reading the input file and drop empty entries"
   ]
  },
  {
   "cell_type": "code",
   "execution_count": 3,
   "id": "12b721ef",
   "metadata": {},
   "outputs": [],
   "source": [
    "log_data = pd.read_csv('log_api.csv')"
   ]
  },
  {
   "cell_type": "code",
   "execution_count": 4,
   "id": "9b6cff3f",
   "metadata": {},
   "outputs": [
    {
     "data": {
      "text/html": [
       "<div>\n",
       "<style scoped>\n",
       "    .dataframe tbody tr th:only-of-type {\n",
       "        vertical-align: middle;\n",
       "    }\n",
       "\n",
       "    .dataframe tbody tr th {\n",
       "        vertical-align: top;\n",
       "    }\n",
       "\n",
       "    .dataframe thead th {\n",
       "        text-align: right;\n",
       "    }\n",
       "</style>\n",
       "<table border=\"1\" class=\"dataframe\">\n",
       "  <thead>\n",
       "    <tr style=\"text-align: right;\">\n",
       "      <th></th>\n",
       "      <th>browser</th>\n",
       "      <th>app</th>\n",
       "      <th>event</th>\n",
       "      <th>size</th>\n",
       "      <th>time</th>\n",
       "    </tr>\n",
       "  </thead>\n",
       "  <tbody>\n",
       "    <tr>\n",
       "      <th>0</th>\n",
       "      <td>Chrome</td>\n",
       "      <td>Angular</td>\n",
       "      <td>domManipulation_BULK_REQUEST</td>\n",
       "      <td>3</td>\n",
       "      <td>0.700000</td>\n",
       "    </tr>\n",
       "    <tr>\n",
       "      <th>1</th>\n",
       "      <td>Chrome</td>\n",
       "      <td>Angular</td>\n",
       "      <td>domManipulation_BULK_REQUEST</td>\n",
       "      <td>3</td>\n",
       "      <td>0.600000</td>\n",
       "    </tr>\n",
       "    <tr>\n",
       "      <th>2</th>\n",
       "      <td>Chrome</td>\n",
       "      <td>Angular</td>\n",
       "      <td>domManipulation_BULK_REQUEST</td>\n",
       "      <td>3</td>\n",
       "      <td>0.700000</td>\n",
       "    </tr>\n",
       "    <tr>\n",
       "      <th>3</th>\n",
       "      <td>Chrome</td>\n",
       "      <td>Angular</td>\n",
       "      <td>domManipulation_BULK_REQUEST</td>\n",
       "      <td>3</td>\n",
       "      <td>0.700000</td>\n",
       "    </tr>\n",
       "    <tr>\n",
       "      <th>4</th>\n",
       "      <td>Chrome</td>\n",
       "      <td>Angular</td>\n",
       "      <td>domManipulation_BULK_REQUEST</td>\n",
       "      <td>3</td>\n",
       "      <td>0.600000</td>\n",
       "    </tr>\n",
       "    <tr>\n",
       "      <th>...</th>\n",
       "      <td>...</td>\n",
       "      <td>...</td>\n",
       "      <td>...</td>\n",
       "      <td>...</td>\n",
       "      <td>...</td>\n",
       "    </tr>\n",
       "    <tr>\n",
       "      <th>11995</th>\n",
       "      <td>Firefox</td>\n",
       "      <td>React</td>\n",
       "      <td>domManipulation_SINGLE_REQUESTS</td>\n",
       "      <td>300</td>\n",
       "      <td>3844.328406</td>\n",
       "    </tr>\n",
       "    <tr>\n",
       "      <th>11996</th>\n",
       "      <td>Firefox</td>\n",
       "      <td>React</td>\n",
       "      <td>domManipulation_SINGLE_REQUESTS</td>\n",
       "      <td>300</td>\n",
       "      <td>3617.381247</td>\n",
       "    </tr>\n",
       "    <tr>\n",
       "      <th>11997</th>\n",
       "      <td>Firefox</td>\n",
       "      <td>React</td>\n",
       "      <td>domManipulation_SINGLE_REQUESTS</td>\n",
       "      <td>300</td>\n",
       "      <td>3679.612386</td>\n",
       "    </tr>\n",
       "    <tr>\n",
       "      <th>11998</th>\n",
       "      <td>Firefox</td>\n",
       "      <td>React</td>\n",
       "      <td>domManipulation_SINGLE_REQUESTS</td>\n",
       "      <td>300</td>\n",
       "      <td>4684.240823</td>\n",
       "    </tr>\n",
       "    <tr>\n",
       "      <th>11999</th>\n",
       "      <td>Firefox</td>\n",
       "      <td>React</td>\n",
       "      <td>domManipulation_SINGLE_REQUESTS</td>\n",
       "      <td>300</td>\n",
       "      <td>3543.538654</td>\n",
       "    </tr>\n",
       "  </tbody>\n",
       "</table>\n",
       "<p>12000 rows × 5 columns</p>\n",
       "</div>"
      ],
      "text/plain": [
       "       browser      app                            event  size         time\n",
       "0       Chrome  Angular     domManipulation_BULK_REQUEST     3     0.700000\n",
       "1       Chrome  Angular     domManipulation_BULK_REQUEST     3     0.600000\n",
       "2       Chrome  Angular     domManipulation_BULK_REQUEST     3     0.700000\n",
       "3       Chrome  Angular     domManipulation_BULK_REQUEST     3     0.700000\n",
       "4       Chrome  Angular     domManipulation_BULK_REQUEST     3     0.600000\n",
       "...        ...      ...                              ...   ...          ...\n",
       "11995  Firefox    React  domManipulation_SINGLE_REQUESTS   300  3844.328406\n",
       "11996  Firefox    React  domManipulation_SINGLE_REQUESTS   300  3617.381247\n",
       "11997  Firefox    React  domManipulation_SINGLE_REQUESTS   300  3679.612386\n",
       "11998  Firefox    React  domManipulation_SINGLE_REQUESTS   300  4684.240823\n",
       "11999  Firefox    React  domManipulation_SINGLE_REQUESTS   300  3543.538654\n",
       "\n",
       "[12000 rows x 5 columns]"
      ]
     },
     "execution_count": 4,
     "metadata": {},
     "output_type": "execute_result"
    }
   ],
   "source": [
    "log_data.dropna()"
   ]
  },
  {
   "cell_type": "markdown",
   "id": "8b48a608",
   "metadata": {},
   "source": [
    "### Group by App and calculate min, max and average"
   ]
  },
  {
   "cell_type": "code",
   "execution_count": 5,
   "id": "f8a0d2f2",
   "metadata": {},
   "outputs": [
    {
     "name": "stdout",
     "output_type": "stream",
     "text": [
      "\n",
      "Summary Chrome for 300 elements in React:\n"
     ]
    },
    {
     "data": {
      "text/html": [
       "<div>\n",
       "<style scoped>\n",
       "    .dataframe tbody tr th:only-of-type {\n",
       "        vertical-align: middle;\n",
       "    }\n",
       "\n",
       "    .dataframe tbody tr th {\n",
       "        vertical-align: top;\n",
       "    }\n",
       "\n",
       "    .dataframe thead tr th {\n",
       "        text-align: left;\n",
       "    }\n",
       "\n",
       "    .dataframe thead tr:last-of-type th {\n",
       "        text-align: right;\n",
       "    }\n",
       "</style>\n",
       "<table border=\"1\" class=\"dataframe\">\n",
       "  <thead>\n",
       "    <tr>\n",
       "      <th></th>\n",
       "      <th colspan=\"5\" halign=\"left\">time</th>\n",
       "    </tr>\n",
       "    <tr>\n",
       "      <th></th>\n",
       "      <th>min</th>\n",
       "      <th>max</th>\n",
       "      <th>mean</th>\n",
       "      <th>std</th>\n",
       "      <th>size</th>\n",
       "    </tr>\n",
       "    <tr>\n",
       "      <th>event</th>\n",
       "      <th></th>\n",
       "      <th></th>\n",
       "      <th></th>\n",
       "      <th></th>\n",
       "      <th></th>\n",
       "    </tr>\n",
       "  </thead>\n",
       "  <tbody>\n",
       "    <tr>\n",
       "      <th>domManipulation_BULK_REQUEST</th>\n",
       "      <td>106.6</td>\n",
       "      <td>231.5</td>\n",
       "      <td>120.595894</td>\n",
       "      <td>8.527411</td>\n",
       "      <td>500</td>\n",
       "    </tr>\n",
       "    <tr>\n",
       "      <th>domManipulation_SINGLE_REQUESTS</th>\n",
       "      <td>1044.2</td>\n",
       "      <td>9754.6</td>\n",
       "      <td>1683.833458</td>\n",
       "      <td>587.181171</td>\n",
       "      <td>500</td>\n",
       "    </tr>\n",
       "  </tbody>\n",
       "</table>\n",
       "</div>"
      ],
      "text/plain": [
       "                                   time                                      \n",
       "                                    min     max         mean         std size\n",
       "event                                                                        \n",
       "domManipulation_BULK_REQUEST      106.6   231.5   120.595894    8.527411  500\n",
       "domManipulation_SINGLE_REQUESTS  1044.2  9754.6  1683.833458  587.181171  500"
      ]
     },
     "metadata": {},
     "output_type": "display_data"
    },
    {
     "name": "stdout",
     "output_type": "stream",
     "text": [
      "\n",
      "Summary Firefox for 300 elements in React:\n"
     ]
    },
    {
     "data": {
      "text/html": [
       "<div>\n",
       "<style scoped>\n",
       "    .dataframe tbody tr th:only-of-type {\n",
       "        vertical-align: middle;\n",
       "    }\n",
       "\n",
       "    .dataframe tbody tr th {\n",
       "        vertical-align: top;\n",
       "    }\n",
       "\n",
       "    .dataframe thead tr th {\n",
       "        text-align: left;\n",
       "    }\n",
       "\n",
       "    .dataframe thead tr:last-of-type th {\n",
       "        text-align: right;\n",
       "    }\n",
       "</style>\n",
       "<table border=\"1\" class=\"dataframe\">\n",
       "  <thead>\n",
       "    <tr>\n",
       "      <th></th>\n",
       "      <th colspan=\"5\" halign=\"left\">time</th>\n",
       "    </tr>\n",
       "    <tr>\n",
       "      <th></th>\n",
       "      <th>min</th>\n",
       "      <th>max</th>\n",
       "      <th>mean</th>\n",
       "      <th>std</th>\n",
       "      <th>size</th>\n",
       "    </tr>\n",
       "    <tr>\n",
       "      <th>event</th>\n",
       "      <th></th>\n",
       "      <th></th>\n",
       "      <th></th>\n",
       "      <th></th>\n",
       "      <th></th>\n",
       "    </tr>\n",
       "  </thead>\n",
       "  <tbody>\n",
       "    <tr>\n",
       "      <th>domManipulation_BULK_REQUEST</th>\n",
       "      <td>59.281419</td>\n",
       "      <td>790.590461</td>\n",
       "      <td>103.725488</td>\n",
       "      <td>37.398176</td>\n",
       "      <td>500</td>\n",
       "    </tr>\n",
       "    <tr>\n",
       "      <th>domManipulation_SINGLE_REQUESTS</th>\n",
       "      <td>2907.828414</td>\n",
       "      <td>6265.408451</td>\n",
       "      <td>4041.685357</td>\n",
       "      <td>729.276990</td>\n",
       "      <td>500</td>\n",
       "    </tr>\n",
       "  </tbody>\n",
       "</table>\n",
       "</div>"
      ],
      "text/plain": [
       "                                        time                            \\\n",
       "                                         min          max         mean   \n",
       "event                                                                    \n",
       "domManipulation_BULK_REQUEST       59.281419   790.590461   103.725488   \n",
       "domManipulation_SINGLE_REQUESTS  2907.828414  6265.408451  4041.685357   \n",
       "\n",
       "                                                  \n",
       "                                        std size  \n",
       "event                                             \n",
       "domManipulation_BULK_REQUEST      37.398176  500  \n",
       "domManipulation_SINGLE_REQUESTS  729.276990  500  "
      ]
     },
     "metadata": {},
     "output_type": "display_data"
    }
   ],
   "source": [
    "app = 'React'\n",
    "size = 300\n",
    "\n",
    "chrome = log_data.query(\"size == @size\").query(\"app == @app\").query(\"browser == 'Chrome'\")\n",
    "firefox = log_data.query('size == @size').query(\"app == @app\").query(\"browser == 'Firefox'\")\n",
    "\n",
    "c_sum = chrome.groupby('event').agg({'time': ['min', 'max', 'mean', 'std', 'size']})\n",
    "f_sum = firefox.groupby('event').agg({'time': ['min', 'max', 'mean', 'std', 'size']})\n",
    "\n",
    "print(f\"\\nSummary Chrome for {size} elements in {app}:\")\n",
    "display(c_sum)\n",
    "print(f\"\\nSummary Firefox for {size} elements in {app}:\")\n",
    "display(f_sum)"
   ]
  },
  {
   "cell_type": "markdown",
   "id": "99b5666a",
   "metadata": {},
   "source": [
    "### Plot grouped dataframe as bar chart"
   ]
  },
  {
   "cell_type": "code",
   "execution_count": 6,
   "id": "6c8d7c86",
   "metadata": {
    "scrolled": true
   },
   "outputs": [
    {
     "data": {
      "image/png": "[encoded data removed]",
      "text/plain": [
       "<Figure size 432x288 with 1 Axes>"
      ]
     },
     "metadata": {
      "needs_background": "light"
     },
     "output_type": "display_data"
    }
   ],
   "source": [
    "events = ['Bulk Request', 'Single Requests']\n",
    "x_axis = np.arange(len(events))\n",
    "\n",
    "c_val = [\n",
    "    c_sum['time']['mean']['domManipulation_BULK_REQUEST'],\n",
    "    c_sum['time']['mean']['domManipulation_SINGLE_REQUESTS']\n",
    "]\n",
    "    \n",
    "f_val = [\n",
    "    f_sum['time']['mean']['domManipulation_BULK_REQUEST'],\n",
    "    f_sum['time']['mean']['domManipulation_SINGLE_REQUESTS']\n",
    "]\n",
    "\n",
    "plt.bar(x_axis - 0.25, c_val, width=0.4, label='Chrome', zorder=10)\n",
    "plt.bar(x_axis + 0.25, f_val, width=0.4, label='Firefox', zorder=10)\n",
    "\n",
    "plt.grid(axis='y', linestyle='dashed', zorder=0)\n",
    "plt.title(f\"Verarbeitung von {size} {'Elementen' if size != 1 else 'Element'} in {app} nach Backend Anfrage\")\n",
    "plt.xticks(x_axis, events, rotation=0)\n",
    "plt.ylabel(\"Zeit in ms\")\n",
    "plt.xlabel(\"Operationen\")\n",
    "plt.legend(loc=[1.01, 0.1])\n",
    "\n",
    "plt.savefig(f\"./charts/plot_{app}_{size}.png\", bbox_inches=\"tight\", transparent=True)"
   ]
  },
  {
   "cell_type": "code",
   "execution_count": null,
   "id": "d1f81747",
   "metadata": {},
   "outputs": [],
   "source": []
  }
 ],
 "metadata": {
  "kernelspec": {
   "display_name": "Python 3 (ipykernel)",
   "language": "python",
   "name": "python3"
  },
  "language_info": {
   "codemirror_mode": {
    "name": "ipython",
    "version": 3
   },
   "file_extension": ".py",
   "mimetype": "text/x-python",
   "name": "python",
   "nbconvert_exporter": "python",
   "pygments_lexer": "ipython3",
   "version": "3.9.7"
  }
 },
 "nbformat": 4,
 "nbformat_minor": 5
}
