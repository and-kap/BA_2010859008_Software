{
 "cells": [
  {
   "cell_type": "markdown",
   "id": "51ac78a7",
   "metadata": {},
   "source": [
    "# Bachelorarbeit - Evaluierung und Vergleich der Front-End Technologien Angular und React\n",
    "## Andreas Kappel, BSWE, 2010859008"
   ]
  },
  {
   "cell_type": "code",
   "execution_count": 1,
   "id": "bfb88e01",
   "metadata": {},
   "outputs": [],
   "source": [
    "# Python ≥3.5 is required\n",
    "import sys\n",
    "assert sys.version_info >= (3, 5)"
   ]
  },
  {
   "cell_type": "code",
   "execution_count": 2,
   "id": "0eca7ed3",
   "metadata": {},
   "outputs": [],
   "source": [
    "import numpy as np\n",
    "import matplotlib.pyplot as plt\n",
    "import pandas as pd\n",
    "import seaborn as sns"
   ]
  },
  {
   "cell_type": "markdown",
   "id": "2063ac5e",
   "metadata": {},
   "source": [
    "### Reading the input file and drop empty entries"
   ]
  },
  {
   "cell_type": "code",
   "execution_count": 5,
   "id": "12b721ef",
   "metadata": {},
   "outputs": [],
   "source": [
    "log_df = pd.read_csv('log_api.csv')"
   ]
  },
  {
   "cell_type": "code",
   "execution_count": 6,
   "id": "9b6cff3f",
   "metadata": {},
   "outputs": [
    {
     "data": {
      "text/html": [
       "<div>\n",
       "<style scoped>\n",
       "    .dataframe tbody tr th:only-of-type {\n",
       "        vertical-align: middle;\n",
       "    }\n",
       "\n",
       "    .dataframe tbody tr th {\n",
       "        vertical-align: top;\n",
       "    }\n",
       "\n",
       "    .dataframe thead th {\n",
       "        text-align: right;\n",
       "    }\n",
       "</style>\n",
       "<table border=\"1\" class=\"dataframe\">\n",
       "  <thead>\n",
       "    <tr style=\"text-align: right;\">\n",
       "      <th></th>\n",
       "      <th>browser</th>\n",
       "      <th>app</th>\n",
       "      <th>event</th>\n",
       "      <th>size</th>\n",
       "      <th>time</th>\n",
       "    </tr>\n",
       "  </thead>\n",
       "  <tbody>\n",
       "    <tr>\n",
       "      <th>0</th>\n",
       "      <td>Chrome</td>\n",
       "      <td>Angular</td>\n",
       "      <td>domManipulation_BULK_REQUEST</td>\n",
       "      <td>3</td>\n",
       "      <td>0.700000</td>\n",
       "    </tr>\n",
       "    <tr>\n",
       "      <th>1</th>\n",
       "      <td>Chrome</td>\n",
       "      <td>Angular</td>\n",
       "      <td>domManipulation_BULK_REQUEST</td>\n",
       "      <td>3</td>\n",
       "      <td>0.600000</td>\n",
       "    </tr>\n",
       "    <tr>\n",
       "      <th>2</th>\n",
       "      <td>Chrome</td>\n",
       "      <td>Angular</td>\n",
       "      <td>domManipulation_BULK_REQUEST</td>\n",
       "      <td>3</td>\n",
       "      <td>0.700000</td>\n",
       "    </tr>\n",
       "    <tr>\n",
       "      <th>3</th>\n",
       "      <td>Chrome</td>\n",
       "      <td>Angular</td>\n",
       "      <td>domManipulation_BULK_REQUEST</td>\n",
       "      <td>3</td>\n",
       "      <td>0.700000</td>\n",
       "    </tr>\n",
       "    <tr>\n",
       "      <th>4</th>\n",
       "      <td>Chrome</td>\n",
       "      <td>Angular</td>\n",
       "      <td>domManipulation_BULK_REQUEST</td>\n",
       "      <td>3</td>\n",
       "      <td>0.600000</td>\n",
       "    </tr>\n",
       "    <tr>\n",
       "      <th>...</th>\n",
       "      <td>...</td>\n",
       "      <td>...</td>\n",
       "      <td>...</td>\n",
       "      <td>...</td>\n",
       "      <td>...</td>\n",
       "    </tr>\n",
       "    <tr>\n",
       "      <th>11995</th>\n",
       "      <td>Firefox</td>\n",
       "      <td>React</td>\n",
       "      <td>domManipulation_SINGLE_REQUESTS</td>\n",
       "      <td>300</td>\n",
       "      <td>3844.328406</td>\n",
       "    </tr>\n",
       "    <tr>\n",
       "      <th>11996</th>\n",
       "      <td>Firefox</td>\n",
       "      <td>React</td>\n",
       "      <td>domManipulation_SINGLE_REQUESTS</td>\n",
       "      <td>300</td>\n",
       "      <td>3617.381247</td>\n",
       "    </tr>\n",
       "    <tr>\n",
       "      <th>11997</th>\n",
       "      <td>Firefox</td>\n",
       "      <td>React</td>\n",
       "      <td>domManipulation_SINGLE_REQUESTS</td>\n",
       "      <td>300</td>\n",
       "      <td>3679.612386</td>\n",
       "    </tr>\n",
       "    <tr>\n",
       "      <th>11998</th>\n",
       "      <td>Firefox</td>\n",
       "      <td>React</td>\n",
       "      <td>domManipulation_SINGLE_REQUESTS</td>\n",
       "      <td>300</td>\n",
       "      <td>4684.240823</td>\n",
       "    </tr>\n",
       "    <tr>\n",
       "      <th>11999</th>\n",
       "      <td>Firefox</td>\n",
       "      <td>React</td>\n",
       "      <td>domManipulation_SINGLE_REQUESTS</td>\n",
       "      <td>300</td>\n",
       "      <td>3543.538654</td>\n",
       "    </tr>\n",
       "  </tbody>\n",
       "</table>\n",
       "<p>12000 rows × 5 columns</p>\n",
       "</div>"
      ],
      "text/plain": [
       "       browser      app                            event  size         time\n",
       "0       Chrome  Angular     domManipulation_BULK_REQUEST     3     0.700000\n",
       "1       Chrome  Angular     domManipulation_BULK_REQUEST     3     0.600000\n",
       "2       Chrome  Angular     domManipulation_BULK_REQUEST     3     0.700000\n",
       "3       Chrome  Angular     domManipulation_BULK_REQUEST     3     0.700000\n",
       "4       Chrome  Angular     domManipulation_BULK_REQUEST     3     0.600000\n",
       "...        ...      ...                              ...   ...          ...\n",
       "11995  Firefox    React  domManipulation_SINGLE_REQUESTS   300  3844.328406\n",
       "11996  Firefox    React  domManipulation_SINGLE_REQUESTS   300  3617.381247\n",
       "11997  Firefox    React  domManipulation_SINGLE_REQUESTS   300  3679.612386\n",
       "11998  Firefox    React  domManipulation_SINGLE_REQUESTS   300  4684.240823\n",
       "11999  Firefox    React  domManipulation_SINGLE_REQUESTS   300  3543.538654\n",
       "\n",
       "[12000 rows x 5 columns]"
      ]
     },
     "execution_count": 6,
     "metadata": {},
     "output_type": "execute_result"
    }
   ],
   "source": [
    "log_df.dropna()"
   ]
  },
  {
   "cell_type": "markdown",
   "id": "8b48a608",
   "metadata": {},
   "source": [
    "### Group by App and calculate min, max and average"
   ]
  },
  {
   "cell_type": "code",
   "execution_count": 51,
   "id": "f8a0d2f2",
   "metadata": {},
   "outputs": [
    {
     "name": "stdout",
     "output_type": "stream",
     "text": [
      "Info:  (3000, 5) \n",
      "\n"
     ]
    },
    {
     "data": {
      "text/html": [
       "<div>\n",
       "<style scoped>\n",
       "    .dataframe tbody tr th:only-of-type {\n",
       "        vertical-align: middle;\n",
       "    }\n",
       "\n",
       "    .dataframe tbody tr th {\n",
       "        vertical-align: top;\n",
       "    }\n",
       "\n",
       "    .dataframe thead th {\n",
       "        text-align: right;\n",
       "    }\n",
       "</style>\n",
       "<table border=\"1\" class=\"dataframe\">\n",
       "  <thead>\n",
       "    <tr style=\"text-align: right;\">\n",
       "      <th></th>\n",
       "      <th>browser</th>\n",
       "      <th>app</th>\n",
       "      <th>event</th>\n",
       "      <th>size</th>\n",
       "      <th>time</th>\n",
       "    </tr>\n",
       "  </thead>\n",
       "  <tbody>\n",
       "    <tr>\n",
       "      <th>12000</th>\n",
       "      <td>Chrome</td>\n",
       "      <td>React</td>\n",
       "      <td>ADD</td>\n",
       "      <td>1</td>\n",
       "      <td>1.80000</td>\n",
       "    </tr>\n",
       "    <tr>\n",
       "      <th>12001</th>\n",
       "      <td>Chrome</td>\n",
       "      <td>React</td>\n",
       "      <td>EDIT</td>\n",
       "      <td>1</td>\n",
       "      <td>1.80000</td>\n",
       "    </tr>\n",
       "    <tr>\n",
       "      <th>12002</th>\n",
       "      <td>Chrome</td>\n",
       "      <td>React</td>\n",
       "      <td>DELETE</td>\n",
       "      <td>1</td>\n",
       "      <td>2.17263</td>\n",
       "    </tr>\n",
       "    <tr>\n",
       "      <th>12003</th>\n",
       "      <td>Chrome</td>\n",
       "      <td>React</td>\n",
       "      <td>ADD</td>\n",
       "      <td>1</td>\n",
       "      <td>1.70000</td>\n",
       "    </tr>\n",
       "    <tr>\n",
       "      <th>12004</th>\n",
       "      <td>Chrome</td>\n",
       "      <td>React</td>\n",
       "      <td>EDIT</td>\n",
       "      <td>1</td>\n",
       "      <td>1.70000</td>\n",
       "    </tr>\n",
       "  </tbody>\n",
       "</table>\n",
       "</div>"
      ],
      "text/plain": [
       "      browser    app   event  size     time\n",
       "12000  Chrome  React     ADD     1  1.80000\n",
       "12001  Chrome  React    EDIT     1  1.80000\n",
       "12002  Chrome  React  DELETE     1  2.17263\n",
       "12003  Chrome  React     ADD     1  1.70000\n",
       "12004  Chrome  React    EDIT     1  1.70000"
      ]
     },
     "execution_count": 51,
     "metadata": {},
     "output_type": "execute_result"
    }
   ],
   "source": [
    "app = 'React'\n",
    "size = 1\n",
    "\n",
    "labels = {\n",
    "    'domManipulation_SINGLE_REQUESTS': 'Single Request',\n",
    "    'domManipulation_BULK_REQUEST': 'Bulk Request',\n",
    "    'domManipulation_DELETE': 'DELETE'\n",
    "}\n",
    "\n",
    "app_df = log_df[(log_df['app'] == app) & (log_df['size'] == size)]\n",
    "\n",
    "print('Info: ', app_df.shape, '\\n')\n",
    "\n",
    "app_df = app_df.replace(labels)\n",
    "app_df.head()"
   ]
  },
  {
   "cell_type": "markdown",
   "id": "99b5666a",
   "metadata": {},
   "source": [
    "### Plot grouped dataframe as bar chart and boxplot"
   ]
  },
  {
   "cell_type": "code",
   "execution_count": 52,
   "id": "a5b4ef84-3c0a-40c3-9165-ae26b71d6eda",
   "metadata": {},
   "outputs": [
    {
     "data": {
      "image/png": "[encoded data removed]",
      "text/plain": [
       "<Figure size 648x288 with 2 Axes>"
      ]
     },
     "metadata": {
      "needs_background": "light"
     },
     "output_type": "display_data"
    }
   ],
   "source": [
    "fig, axs = plt.subplots(1, 2, figsize=(9, 4), gridspec_kw=dict(width_ratios=[1, 1]))\n",
    "fig.autolayout = True\n",
    "\n",
    "sns.barplot(data=app_df, x='event', y='time', hue='browser', ax=axs[0], zorder=10, ci=None)\n",
    "sns.boxplot(data=app_df, x='event', y='time', hue='browser', ax=axs[1], zorder=10, flierprops = dict(markerfacecolor = '0.5', markersize = 3))\n",
    "\n",
    "for idx, ax in enumerate(axs):\n",
    "    ax.set(xlabel='Operation', ylabel='Zeit in ms')\n",
    "    ax.set(title=f\"{'Balkendiagramm' if idx == 0 else 'Boxplot'} für {size} {'Elemente' if size != 1 else 'Element'} in {app}\")\n",
    "    if(idx > 0):\n",
    "        ax.legend(title='Browser', loc='center right', ncol=2, bbox_to_anchor=(0.25, -0.25))\n",
    "    else:\n",
    "        ax.legend([], [], frameon=False)\n",
    "        plt.setp(ax.lines, zorder=100, label=\"\")\n",
    "    ax.grid(axis='y', linestyle='dashed', zorder=0)\n",
    "\n",
    "\n",
    "plt.savefig(f\"./charts_v2/plot_{app}_{size}.png\", bbox_inches=\"tight\", transparent=True)"
   ]
  },
  {
   "cell_type": "code",
   "execution_count": null,
   "id": "d4a6fe4a-fce8-49d8-8db9-4854bc4678aa",
   "metadata": {},
   "outputs": [],
   "source": []
  }
 ],
 "metadata": {
  "kernelspec": {
   "display_name": "Python 3 (ipykernel)",
   "language": "python",
   "name": "python3"
  },
  "language_info": {
   "codemirror_mode": {
    "name": "ipython",
    "version": 3
   },
   "file_extension": ".py",
   "mimetype": "text/x-python",
   "name": "python",
   "nbconvert_exporter": "python",
   "pygments_lexer": "ipython3",
   "version": "3.9.7"
  }
 },
 "nbformat": 4,
 "nbformat_minor": 5
}
