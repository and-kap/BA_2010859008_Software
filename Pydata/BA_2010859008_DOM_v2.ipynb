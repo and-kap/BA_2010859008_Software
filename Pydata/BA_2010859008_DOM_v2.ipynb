{
 "cells": [
  {
   "cell_type": "markdown",
   "id": "51ac78a7",
   "metadata": {},
   "source": [
    "# Bachelorarbeit - Evaluierung und Vergleich der Front-End Technologien Angular und React\n",
    "## Andreas Kappel, BSWE, 2010859008"
   ]
  },
  {
   "cell_type": "code",
   "execution_count": 1,
   "id": "bfb88e01",
   "metadata": {},
   "outputs": [],
   "source": [
    "# Python ≥3.5 is required\n",
    "import sys\n",
    "assert sys.version_info >= (3, 5)"
   ]
  },
  {
   "cell_type": "code",
   "execution_count": 2,
   "id": "0eca7ed3",
   "metadata": {},
   "outputs": [],
   "source": [
    "import numpy as np\n",
    "import matplotlib.pyplot as plt\n",
    "import pandas as pd\n",
    "import seaborn as sns"
   ]
  },
  {
   "cell_type": "markdown",
   "id": "2063ac5e",
   "metadata": {},
   "source": [
    "### Reading the input file and drop empty entries"
   ]
  },
  {
   "cell_type": "code",
   "execution_count": 3,
   "id": "12b721ef",
   "metadata": {},
   "outputs": [],
   "source": [
    "log_df = pd.read_csv('log_dom.csv')"
   ]
  },
  {
   "cell_type": "code",
   "execution_count": 4,
   "id": "9b6cff3f",
   "metadata": {},
   "outputs": [
    {
     "data": {
      "text/html": [
       "<div>\n",
       "<style scoped>\n",
       "    .dataframe tbody tr th:only-of-type {\n",
       "        vertical-align: middle;\n",
       "    }\n",
       "\n",
       "    .dataframe tbody tr th {\n",
       "        vertical-align: top;\n",
       "    }\n",
       "\n",
       "    .dataframe thead th {\n",
       "        text-align: right;\n",
       "    }\n",
       "</style>\n",
       "<table border=\"1\" class=\"dataframe\">\n",
       "  <thead>\n",
       "    <tr style=\"text-align: right;\">\n",
       "      <th></th>\n",
       "      <th>browser</th>\n",
       "      <th>app</th>\n",
       "      <th>event</th>\n",
       "      <th>size</th>\n",
       "      <th>time</th>\n",
       "    </tr>\n",
       "  </thead>\n",
       "  <tbody>\n",
       "    <tr>\n",
       "      <th>0</th>\n",
       "      <td>Chrome</td>\n",
       "      <td>Angular</td>\n",
       "      <td>domManipulation_ADD</td>\n",
       "      <td>1</td>\n",
       "      <td>0.700000</td>\n",
       "    </tr>\n",
       "    <tr>\n",
       "      <th>1</th>\n",
       "      <td>Chrome</td>\n",
       "      <td>Angular</td>\n",
       "      <td>domManipulation_EDIT</td>\n",
       "      <td>1</td>\n",
       "      <td>1.300000</td>\n",
       "    </tr>\n",
       "    <tr>\n",
       "      <th>2</th>\n",
       "      <td>Chrome</td>\n",
       "      <td>Angular</td>\n",
       "      <td>domManipulation_DELETE</td>\n",
       "      <td>1</td>\n",
       "      <td>0.600000</td>\n",
       "    </tr>\n",
       "    <tr>\n",
       "      <th>3</th>\n",
       "      <td>Chrome</td>\n",
       "      <td>Angular</td>\n",
       "      <td>domManipulation_ADD</td>\n",
       "      <td>1</td>\n",
       "      <td>0.600000</td>\n",
       "    </tr>\n",
       "    <tr>\n",
       "      <th>4</th>\n",
       "      <td>Chrome</td>\n",
       "      <td>Angular</td>\n",
       "      <td>domManipulation_EDIT</td>\n",
       "      <td>1</td>\n",
       "      <td>0.200000</td>\n",
       "    </tr>\n",
       "    <tr>\n",
       "      <th>...</th>\n",
       "      <td>...</td>\n",
       "      <td>...</td>\n",
       "      <td>...</td>\n",
       "      <td>...</td>\n",
       "      <td>...</td>\n",
       "    </tr>\n",
       "    <tr>\n",
       "      <th>23995</th>\n",
       "      <td>Firefox</td>\n",
       "      <td>React</td>\n",
       "      <td>domManipulation_EDIT</td>\n",
       "      <td>1000</td>\n",
       "      <td>77.870494</td>\n",
       "    </tr>\n",
       "    <tr>\n",
       "      <th>23996</th>\n",
       "      <td>Firefox</td>\n",
       "      <td>React</td>\n",
       "      <td>domManipulation_DELETE</td>\n",
       "      <td>1000</td>\n",
       "      <td>88.291382</td>\n",
       "    </tr>\n",
       "    <tr>\n",
       "      <th>23997</th>\n",
       "      <td>Firefox</td>\n",
       "      <td>React</td>\n",
       "      <td>domManipulation_ADD</td>\n",
       "      <td>1000</td>\n",
       "      <td>141.155669</td>\n",
       "    </tr>\n",
       "    <tr>\n",
       "      <th>23998</th>\n",
       "      <td>Firefox</td>\n",
       "      <td>React</td>\n",
       "      <td>domManipulation_EDIT</td>\n",
       "      <td>1000</td>\n",
       "      <td>74.743005</td>\n",
       "    </tr>\n",
       "    <tr>\n",
       "      <th>23999</th>\n",
       "      <td>Firefox</td>\n",
       "      <td>React</td>\n",
       "      <td>domManipulation_DELETE</td>\n",
       "      <td>1000</td>\n",
       "      <td>88.482880</td>\n",
       "    </tr>\n",
       "  </tbody>\n",
       "</table>\n",
       "<p>24000 rows × 5 columns</p>\n",
       "</div>"
      ],
      "text/plain": [
       "       browser      app                   event  size        time\n",
       "0       Chrome  Angular     domManipulation_ADD     1    0.700000\n",
       "1       Chrome  Angular    domManipulation_EDIT     1    1.300000\n",
       "2       Chrome  Angular  domManipulation_DELETE     1    0.600000\n",
       "3       Chrome  Angular     domManipulation_ADD     1    0.600000\n",
       "4       Chrome  Angular    domManipulation_EDIT     1    0.200000\n",
       "...        ...      ...                     ...   ...         ...\n",
       "23995  Firefox    React    domManipulation_EDIT  1000   77.870494\n",
       "23996  Firefox    React  domManipulation_DELETE  1000   88.291382\n",
       "23997  Firefox    React     domManipulation_ADD  1000  141.155669\n",
       "23998  Firefox    React    domManipulation_EDIT  1000   74.743005\n",
       "23999  Firefox    React  domManipulation_DELETE  1000   88.482880\n",
       "\n",
       "[24000 rows x 5 columns]"
      ]
     },
     "execution_count": 4,
     "metadata": {},
     "output_type": "execute_result"
    }
   ],
   "source": [
    "log_df.dropna()"
   ]
  },
  {
   "cell_type": "markdown",
   "id": "8b48a608",
   "metadata": {},
   "source": [
    "### Group by App and calculate min, max and average"
   ]
  },
  {
   "cell_type": "code",
   "execution_count": 134,
   "id": "f8a0d2f2",
   "metadata": {},
   "outputs": [
    {
     "name": "stdout",
     "output_type": "stream",
     "text": [
      "Info:  (3000, 5) \n",
      "\n"
     ]
    },
    {
     "data": {
      "text/html": [
       "<div>\n",
       "<style scoped>\n",
       "    .dataframe tbody tr th:only-of-type {\n",
       "        vertical-align: middle;\n",
       "    }\n",
       "\n",
       "    .dataframe tbody tr th {\n",
       "        vertical-align: top;\n",
       "    }\n",
       "\n",
       "    .dataframe thead th {\n",
       "        text-align: right;\n",
       "    }\n",
       "</style>\n",
       "<table border=\"1\" class=\"dataframe\">\n",
       "  <thead>\n",
       "    <tr style=\"text-align: right;\">\n",
       "      <th></th>\n",
       "      <th>browser</th>\n",
       "      <th>app</th>\n",
       "      <th>event</th>\n",
       "      <th>size</th>\n",
       "      <th>time</th>\n",
       "    </tr>\n",
       "  </thead>\n",
       "  <tbody>\n",
       "    <tr>\n",
       "      <th>0</th>\n",
       "      <td>Chrome</td>\n",
       "      <td>Angular</td>\n",
       "      <td>ADD</td>\n",
       "      <td>1</td>\n",
       "      <td>0.7</td>\n",
       "    </tr>\n",
       "    <tr>\n",
       "      <th>1</th>\n",
       "      <td>Chrome</td>\n",
       "      <td>Angular</td>\n",
       "      <td>EDIT</td>\n",
       "      <td>1</td>\n",
       "      <td>1.3</td>\n",
       "    </tr>\n",
       "    <tr>\n",
       "      <th>2</th>\n",
       "      <td>Chrome</td>\n",
       "      <td>Angular</td>\n",
       "      <td>DELETE</td>\n",
       "      <td>1</td>\n",
       "      <td>0.6</td>\n",
       "    </tr>\n",
       "    <tr>\n",
       "      <th>3</th>\n",
       "      <td>Chrome</td>\n",
       "      <td>Angular</td>\n",
       "      <td>ADD</td>\n",
       "      <td>1</td>\n",
       "      <td>0.6</td>\n",
       "    </tr>\n",
       "    <tr>\n",
       "      <th>4</th>\n",
       "      <td>Chrome</td>\n",
       "      <td>Angular</td>\n",
       "      <td>EDIT</td>\n",
       "      <td>1</td>\n",
       "      <td>0.2</td>\n",
       "    </tr>\n",
       "  </tbody>\n",
       "</table>\n",
       "</div>"
      ],
      "text/plain": [
       "  browser      app   event  size  time\n",
       "0  Chrome  Angular     ADD     1   0.7\n",
       "1  Chrome  Angular    EDIT     1   1.3\n",
       "2  Chrome  Angular  DELETE     1   0.6\n",
       "3  Chrome  Angular     ADD     1   0.6\n",
       "4  Chrome  Angular    EDIT     1   0.2"
      ]
     },
     "execution_count": 134,
     "metadata": {},
     "output_type": "execute_result"
    }
   ],
   "source": [
    "app = 'Angular'\n",
    "size = 1\n",
    "\n",
    "labels = {\n",
    "    'domManipulation_ADD': 'ADD',\n",
    "    'domManipulation_EDIT': 'EDIT',\n",
    "    'domManipulation_DELETE': 'DELETE'\n",
    "}\n",
    "\n",
    "app_df = log_df[(log_df['app'] == app) & (log_df['size'] == size)]\n",
    "\n",
    "print('Info: ', app_df.shape, '\\n')\n",
    "\n",
    "app_df = app_df.replace(labels)\n",
    "app_df.head()"
   ]
  },
  {
   "cell_type": "markdown",
   "id": "99b5666a",
   "metadata": {},
   "source": [
    "### Plot grouped dataframe as bar chart and boxplot"
   ]
  },
  {
   "cell_type": "code",
   "execution_count": 135,
   "id": "a5b4ef84-3c0a-40c3-9165-ae26b71d6eda",
   "metadata": {},
   "outputs": [
    {
     "data": {
      "image/png": "[encoded data removed]",
      "text/plain": [
       "<Figure size 576x216 with 2 Axes>"
      ]
     },
     "metadata": {
      "needs_background": "light"
     },
     "output_type": "display_data"
    }
   ],
   "source": [
    "fig, axs = plt.subplots(1, 2, figsize=(8, 3), gridspec_kw=dict(width_ratios=[1, 1]))\n",
    "fig.tight_layout(w_pad=2.5)\n",
    "\n",
    "sns.barplot(data=app_df, x='event', y='time', hue='browser', ax=axs[0], zorder=10, ci=None)\n",
    "sns.boxplot(data=app_df, x='event', y='time', hue='browser', ax=axs[1], zorder=10, flierprops = dict(markerfacecolor = '0.5', markersize = 3))\n",
    "\n",
    "for idx, ax in enumerate(axs):\n",
    "    ax.set(xlabel='Operation', ylabel='Zeit in ms')\n",
    "    ax.set(title=f\"{'Balkendiagramm' if idx == 0 else 'Boxplot'} für {size} {'Elemente' if size != 1 else 'Element'} in {app}\")\n",
    "    if(idx > 0):\n",
    "        h, l = ax.get_legend_handles_labels()\n",
    "        ph = [plt.plot([], marker=\"\", ls=\"\")[0]]\n",
    "        handles = ph + h\n",
    "        labels = ['Browser:'] + l\n",
    "        ax.legend(handles, labels, ncol=3, loc='center right', bbox_to_anchor=(0.4, -0.3))\n",
    "        \n",
    "    else:\n",
    "        ax.legend([], [], frameon=False)\n",
    "        plt.setp(ax.lines, zorder=100, label=\"\")\n",
    "    ax.grid(axis='y', linestyle='dashed', zorder=0)\n",
    "    ax.set_axisbelow(True)\n",
    "\n",
    "plt.savefig(f\"./charts_v2/plot_{app}_{size}.png\", bbox_inches=\"tight\", transparent=True)"
   ]
  },
  {
   "cell_type": "code",
   "execution_count": null,
   "id": "b9a1ca1f-7ca5-4e25-8d7e-93beb3f17149",
   "metadata": {},
   "outputs": [],
   "source": []
  }
 ],
 "metadata": {
  "kernelspec": {
   "display_name": "Python 3 (ipykernel)",
   "language": "python",
   "name": "python3"
  },
  "language_info": {
   "codemirror_mode": {
    "name": "ipython",
    "version": 3
   },
   "file_extension": ".py",
   "mimetype": "text/x-python",
   "name": "python",
   "nbconvert_exporter": "python",
   "pygments_lexer": "ipython3",
   "version": "3.9.7"
  }
 },
 "nbformat": 4,
 "nbformat_minor": 5
}
