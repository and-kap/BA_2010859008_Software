{
 "cells": [
  {
   "cell_type": "markdown",
   "id": "51ac78a7",
   "metadata": {},
   "source": [
    "# Bachelorarbeit - Evaluierung und Vergleich der Front-End Technologien Angular und React\n",
    "## Andreas Kappel, BSWE, 2010859008"
   ]
  },
  {
   "cell_type": "code",
   "execution_count": 1,
   "id": "bfb88e01",
   "metadata": {},
   "outputs": [],
   "source": [
    "# Python ≥3.5 is required\n",
    "import sys\n",
    "assert sys.version_info >= (3, 5)"
   ]
  },
  {
   "cell_type": "code",
   "execution_count": 2,
   "id": "0eca7ed3",
   "metadata": {},
   "outputs": [],
   "source": [
    "import numpy as np\n",
    "import matplotlib.pyplot as plt\n",
    "import pandas as pd\n",
    "import scipy as sp"
   ]
  },
  {
   "cell_type": "markdown",
   "id": "2063ac5e",
   "metadata": {},
   "source": [
    "### Reading the input file and drop empty entries"
   ]
  },
  {
   "cell_type": "code",
   "execution_count": 3,
   "id": "12b721ef",
   "metadata": {},
   "outputs": [],
   "source": [
    "log_data = pd.read_csv('log_dom.csv')"
   ]
  },
  {
   "cell_type": "code",
   "execution_count": 4,
   "id": "9b6cff3f",
   "metadata": {},
   "outputs": [
    {
     "data": {
      "text/html": [
       "<div>\n",
       "<style scoped>\n",
       "    .dataframe tbody tr th:only-of-type {\n",
       "        vertical-align: middle;\n",
       "    }\n",
       "\n",
       "    .dataframe tbody tr th {\n",
       "        vertical-align: top;\n",
       "    }\n",
       "\n",
       "    .dataframe thead th {\n",
       "        text-align: right;\n",
       "    }\n",
       "</style>\n",
       "<table border=\"1\" class=\"dataframe\">\n",
       "  <thead>\n",
       "    <tr style=\"text-align: right;\">\n",
       "      <th></th>\n",
       "      <th>browser</th>\n",
       "      <th>app</th>\n",
       "      <th>event</th>\n",
       "      <th>size</th>\n",
       "      <th>time</th>\n",
       "    </tr>\n",
       "  </thead>\n",
       "  <tbody>\n",
       "    <tr>\n",
       "      <th>0</th>\n",
       "      <td>Chrome</td>\n",
       "      <td>Angular</td>\n",
       "      <td>domManipulation_ADD</td>\n",
       "      <td>1</td>\n",
       "      <td>0.700000</td>\n",
       "    </tr>\n",
       "    <tr>\n",
       "      <th>1</th>\n",
       "      <td>Chrome</td>\n",
       "      <td>Angular</td>\n",
       "      <td>domManipulation_EDIT</td>\n",
       "      <td>1</td>\n",
       "      <td>1.300000</td>\n",
       "    </tr>\n",
       "    <tr>\n",
       "      <th>2</th>\n",
       "      <td>Chrome</td>\n",
       "      <td>Angular</td>\n",
       "      <td>domManipulation_DELETE</td>\n",
       "      <td>1</td>\n",
       "      <td>0.600000</td>\n",
       "    </tr>\n",
       "    <tr>\n",
       "      <th>3</th>\n",
       "      <td>Chrome</td>\n",
       "      <td>Angular</td>\n",
       "      <td>domManipulation_ADD</td>\n",
       "      <td>1</td>\n",
       "      <td>0.600000</td>\n",
       "    </tr>\n",
       "    <tr>\n",
       "      <th>4</th>\n",
       "      <td>Chrome</td>\n",
       "      <td>Angular</td>\n",
       "      <td>domManipulation_EDIT</td>\n",
       "      <td>1</td>\n",
       "      <td>0.200000</td>\n",
       "    </tr>\n",
       "    <tr>\n",
       "      <th>...</th>\n",
       "      <td>...</td>\n",
       "      <td>...</td>\n",
       "      <td>...</td>\n",
       "      <td>...</td>\n",
       "      <td>...</td>\n",
       "    </tr>\n",
       "    <tr>\n",
       "      <th>23995</th>\n",
       "      <td>Firefox</td>\n",
       "      <td>React</td>\n",
       "      <td>domManipulation_EDIT</td>\n",
       "      <td>1000</td>\n",
       "      <td>77.870494</td>\n",
       "    </tr>\n",
       "    <tr>\n",
       "      <th>23996</th>\n",
       "      <td>Firefox</td>\n",
       "      <td>React</td>\n",
       "      <td>domManipulation_DELETE</td>\n",
       "      <td>1000</td>\n",
       "      <td>88.291382</td>\n",
       "    </tr>\n",
       "    <tr>\n",
       "      <th>23997</th>\n",
       "      <td>Firefox</td>\n",
       "      <td>React</td>\n",
       "      <td>domManipulation_ADD</td>\n",
       "      <td>1000</td>\n",
       "      <td>141.155669</td>\n",
       "    </tr>\n",
       "    <tr>\n",
       "      <th>23998</th>\n",
       "      <td>Firefox</td>\n",
       "      <td>React</td>\n",
       "      <td>domManipulation_EDIT</td>\n",
       "      <td>1000</td>\n",
       "      <td>74.743005</td>\n",
       "    </tr>\n",
       "    <tr>\n",
       "      <th>23999</th>\n",
       "      <td>Firefox</td>\n",
       "      <td>React</td>\n",
       "      <td>domManipulation_DELETE</td>\n",
       "      <td>1000</td>\n",
       "      <td>88.482880</td>\n",
       "    </tr>\n",
       "  </tbody>\n",
       "</table>\n",
       "<p>24000 rows × 5 columns</p>\n",
       "</div>"
      ],
      "text/plain": [
       "       browser      app                   event  size        time\n",
       "0       Chrome  Angular     domManipulation_ADD     1    0.700000\n",
       "1       Chrome  Angular    domManipulation_EDIT     1    1.300000\n",
       "2       Chrome  Angular  domManipulation_DELETE     1    0.600000\n",
       "3       Chrome  Angular     domManipulation_ADD     1    0.600000\n",
       "4       Chrome  Angular    domManipulation_EDIT     1    0.200000\n",
       "...        ...      ...                     ...   ...         ...\n",
       "23995  Firefox    React    domManipulation_EDIT  1000   77.870494\n",
       "23996  Firefox    React  domManipulation_DELETE  1000   88.291382\n",
       "23997  Firefox    React     domManipulation_ADD  1000  141.155669\n",
       "23998  Firefox    React    domManipulation_EDIT  1000   74.743005\n",
       "23999  Firefox    React  domManipulation_DELETE  1000   88.482880\n",
       "\n",
       "[24000 rows x 5 columns]"
      ]
     },
     "execution_count": 4,
     "metadata": {},
     "output_type": "execute_result"
    }
   ],
   "source": [
    "log_data.dropna()"
   ]
  },
  {
   "cell_type": "markdown",
   "id": "8b48a608",
   "metadata": {},
   "source": [
    "### Group by App and calculate min, max and average"
   ]
  },
  {
   "cell_type": "code",
   "execution_count": 5,
   "id": "f8a0d2f2",
   "metadata": {},
   "outputs": [
    {
     "name": "stdout",
     "output_type": "stream",
     "text": [
      "\n",
      "Summary Chrome for 1000 elements in React:\n"
     ]
    },
    {
     "data": {
      "text/html": [
       "<div>\n",
       "<style scoped>\n",
       "    .dataframe tbody tr th:only-of-type {\n",
       "        vertical-align: middle;\n",
       "    }\n",
       "\n",
       "    .dataframe tbody tr th {\n",
       "        vertical-align: top;\n",
       "    }\n",
       "\n",
       "    .dataframe thead tr th {\n",
       "        text-align: left;\n",
       "    }\n",
       "\n",
       "    .dataframe thead tr:last-of-type th {\n",
       "        text-align: right;\n",
       "    }\n",
       "</style>\n",
       "<table border=\"1\" class=\"dataframe\">\n",
       "  <thead>\n",
       "    <tr>\n",
       "      <th></th>\n",
       "      <th colspan=\"5\" halign=\"left\">time</th>\n",
       "    </tr>\n",
       "    <tr>\n",
       "      <th></th>\n",
       "      <th>min</th>\n",
       "      <th>max</th>\n",
       "      <th>mean</th>\n",
       "      <th>std</th>\n",
       "      <th>size</th>\n",
       "    </tr>\n",
       "    <tr>\n",
       "      <th>event</th>\n",
       "      <th></th>\n",
       "      <th></th>\n",
       "      <th></th>\n",
       "      <th></th>\n",
       "      <th></th>\n",
       "    </tr>\n",
       "  </thead>\n",
       "  <tbody>\n",
       "    <tr>\n",
       "      <th>domManipulation_ADD</th>\n",
       "      <td>56.700000</td>\n",
       "      <td>100.6</td>\n",
       "      <td>69.275087</td>\n",
       "      <td>3.733986</td>\n",
       "      <td>500</td>\n",
       "    </tr>\n",
       "    <tr>\n",
       "      <th>domManipulation_DELETE</th>\n",
       "      <td>36.400937</td>\n",
       "      <td>76.7</td>\n",
       "      <td>40.886653</td>\n",
       "      <td>2.950502</td>\n",
       "      <td>500</td>\n",
       "    </tr>\n",
       "    <tr>\n",
       "      <th>domManipulation_EDIT</th>\n",
       "      <td>35.400000</td>\n",
       "      <td>91.6</td>\n",
       "      <td>43.487236</td>\n",
       "      <td>4.271413</td>\n",
       "      <td>500</td>\n",
       "    </tr>\n",
       "  </tbody>\n",
       "</table>\n",
       "</div>"
      ],
      "text/plain": [
       "                             time                                 \n",
       "                              min    max       mean       std size\n",
       "event                                                             \n",
       "domManipulation_ADD     56.700000  100.6  69.275087  3.733986  500\n",
       "domManipulation_DELETE  36.400937   76.7  40.886653  2.950502  500\n",
       "domManipulation_EDIT    35.400000   91.6  43.487236  4.271413  500"
      ]
     },
     "metadata": {},
     "output_type": "display_data"
    },
    {
     "name": "stdout",
     "output_type": "stream",
     "text": [
      "\n",
      "Summary Firefox for 1000 elements in React:\n"
     ]
    },
    {
     "data": {
      "text/html": [
       "<div>\n",
       "<style scoped>\n",
       "    .dataframe tbody tr th:only-of-type {\n",
       "        vertical-align: middle;\n",
       "    }\n",
       "\n",
       "    .dataframe tbody tr th {\n",
       "        vertical-align: top;\n",
       "    }\n",
       "\n",
       "    .dataframe thead tr th {\n",
       "        text-align: left;\n",
       "    }\n",
       "\n",
       "    .dataframe thead tr:last-of-type th {\n",
       "        text-align: right;\n",
       "    }\n",
       "</style>\n",
       "<table border=\"1\" class=\"dataframe\">\n",
       "  <thead>\n",
       "    <tr>\n",
       "      <th></th>\n",
       "      <th colspan=\"5\" halign=\"left\">time</th>\n",
       "    </tr>\n",
       "    <tr>\n",
       "      <th></th>\n",
       "      <th>min</th>\n",
       "      <th>max</th>\n",
       "      <th>mean</th>\n",
       "      <th>std</th>\n",
       "      <th>size</th>\n",
       "    </tr>\n",
       "    <tr>\n",
       "      <th>event</th>\n",
       "      <th></th>\n",
       "      <th></th>\n",
       "      <th></th>\n",
       "      <th></th>\n",
       "      <th></th>\n",
       "    </tr>\n",
       "  </thead>\n",
       "  <tbody>\n",
       "    <tr>\n",
       "      <th>domManipulation_ADD</th>\n",
       "      <td>107.441785</td>\n",
       "      <td>196.270362</td>\n",
       "      <td>128.883347</td>\n",
       "      <td>9.822106</td>\n",
       "      <td>500</td>\n",
       "    </tr>\n",
       "    <tr>\n",
       "      <th>domManipulation_DELETE</th>\n",
       "      <td>68.698988</td>\n",
       "      <td>133.677291</td>\n",
       "      <td>80.975095</td>\n",
       "      <td>10.049055</td>\n",
       "      <td>500</td>\n",
       "    </tr>\n",
       "    <tr>\n",
       "      <th>domManipulation_EDIT</th>\n",
       "      <td>58.118170</td>\n",
       "      <td>123.307606</td>\n",
       "      <td>72.689171</td>\n",
       "      <td>9.585568</td>\n",
       "      <td>500</td>\n",
       "    </tr>\n",
       "  </tbody>\n",
       "</table>\n",
       "</div>"
      ],
      "text/plain": [
       "                              time                                        \n",
       "                               min         max        mean        std size\n",
       "event                                                                     \n",
       "domManipulation_ADD     107.441785  196.270362  128.883347   9.822106  500\n",
       "domManipulation_DELETE   68.698988  133.677291   80.975095  10.049055  500\n",
       "domManipulation_EDIT     58.118170  123.307606   72.689171   9.585568  500"
      ]
     },
     "metadata": {},
     "output_type": "display_data"
    }
   ],
   "source": [
    "app = 'React'\n",
    "size = 1000\n",
    "\n",
    "chrome = log_data.query(\"size == @size\").query(\"app == @app\").query(\"browser == 'Chrome'\")\n",
    "firefox = log_data.query('size == @size').query(\"app == @app\").query(\"browser == 'Firefox'\")\n",
    "\n",
    "c_sum = chrome.groupby('event').agg({'time': ['min', 'max', 'mean', 'std', 'size']})\n",
    "f_sum = firefox.groupby('event').agg({'time': ['min', 'max', 'mean', 'std', 'size']})\n",
    "\n",
    "print(f\"\\nSummary Chrome for {size} elements in {app}:\")\n",
    "display(c_sum)\n",
    "print(f\"\\nSummary Firefox for {size} elements in {app}:\")\n",
    "display(f_sum)"
   ]
  },
  {
   "cell_type": "markdown",
   "id": "99b5666a",
   "metadata": {},
   "source": [
    "### Plot grouped dataframe as bar chart"
   ]
  },
  {
   "cell_type": "code",
   "execution_count": 6,
   "id": "6c8d7c86",
   "metadata": {
    "scrolled": true
   },
   "outputs": [
    {
     "data": {
      "image/png": "[encoded data removed]",
      "text/plain": [
       "<Figure size 432x288 with 1 Axes>"
      ]
     },
     "metadata": {
      "needs_background": "light"
     },
     "output_type": "display_data"
    }
   ],
   "source": [
    "events = ['ADD', 'EDIT', 'DELETE']\n",
    "x_axis = np.arange(len(events))\n",
    "\n",
    "c_val = [\n",
    "    c_sum['time']['mean']['domManipulation_ADD'],\n",
    "    c_sum['time']['mean']['domManipulation_EDIT'],\n",
    "    c_sum['time']['mean']['domManipulation_DELETE']\n",
    "]\n",
    "    \n",
    "f_val = [\n",
    "    f_sum['time']['mean']['domManipulation_ADD'],\n",
    "    f_sum['time']['mean']['domManipulation_EDIT'],\n",
    "    f_sum['time']['mean']['domManipulation_DELETE']\n",
    "]\n",
    "\n",
    "plt.bar(x_axis - 0.25, c_val, width=0.4, label='Chrome', zorder=10)\n",
    "plt.bar(x_axis + 0.25, f_val, width=0.4, label='Firefox', zorder=10)\n",
    "\n",
    "plt.grid(axis='y', linestyle='dashed', zorder=0)\n",
    "plt.title(f\"DOM Manipulation in {app} mit {size} {'Elementen' if size != 1 else 'Element'}\")\n",
    "plt.xticks(x_axis, events, rotation=-0)\n",
    "plt.ylabel(\"Zeit in ms\")\n",
    "plt.xlabel(\"Operationen\")\n",
    "plt.legend(loc=[1.01, 0.1])\n",
    "\n",
    "plt.savefig(f\"./charts/plot_{app}_{size}.png\", bbox_inches=\"tight\", transparent=True)"
   ]
  },
  {
   "cell_type": "code",
   "execution_count": null,
   "id": "aa148d05",
   "metadata": {},
   "outputs": [],
   "source": []
  }
 ],
 "metadata": {
  "kernelspec": {
   "display_name": "Python 3 (ipykernel)",
   "language": "python",
   "name": "python3"
  },
  "language_info": {
   "codemirror_mode": {
    "name": "ipython",
    "version": 3
   },
   "file_extension": ".py",
   "mimetype": "text/x-python",
   "name": "python",
   "nbconvert_exporter": "python",
   "pygments_lexer": "ipython3",
   "version": "3.9.7"
  }
 },
 "nbformat": 4,
 "nbformat_minor": 5
}
