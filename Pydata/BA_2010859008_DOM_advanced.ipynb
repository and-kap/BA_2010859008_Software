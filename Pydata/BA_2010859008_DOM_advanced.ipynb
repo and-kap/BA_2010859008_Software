{
 "cells": [
  {
   "cell_type": "markdown",
   "id": "51ac78a7",
   "metadata": {},
   "source": [
    "# Bachelorarbeit - Evaluierung und Vergleich der Front-End Technologien Angular und React\n",
    "## Andreas Kappel, BSWE, 2010859008"
   ]
  },
  {
   "cell_type": "code",
   "execution_count": 1,
   "id": "bfb88e01",
   "metadata": {},
   "outputs": [],
   "source": [
    "# Python ≥3.5 is required\n",
    "import sys\n",
    "assert sys.version_info >= (3, 5)"
   ]
  },
  {
   "cell_type": "code",
   "execution_count": 2,
   "id": "0eca7ed3",
   "metadata": {},
   "outputs": [],
   "source": [
    "import numpy as np\n",
    "import matplotlib.pyplot as plt\n",
    "import pandas as pd"
   ]
  },
  {
   "cell_type": "markdown",
   "id": "2063ac5e",
   "metadata": {},
   "source": [
    "### Reading the input file and drop empty entries"
   ]
  },
  {
   "cell_type": "code",
   "execution_count": 3,
   "id": "12b721ef",
   "metadata": {},
   "outputs": [],
   "source": [
    "log_data = pd.read_csv('log_dom.csv')"
   ]
  },
  {
   "cell_type": "markdown",
   "id": "8b48a608",
   "metadata": {},
   "source": [
    "### Settings for automated diagram generation"
   ]
  },
  {
   "cell_type": "code",
   "execution_count": 4,
   "id": "f8a0d2f2",
   "metadata": {},
   "outputs": [],
   "source": [
    "size = None\n",
    "sizes = [1, 10, 100, 1000]\n",
    "transparent = True\n",
    "filename = \"./charts/plot_size_{}.png\"\n",
    "\n",
    "browsers = ['Chrome', 'Firefox']\n",
    "frameworks = ['Angular', 'React']\n",
    "events = ['domManipulation_ADD', 'domManipulation_EDIT', 'domManipulation_DELETE']"
   ]
  },
  {
   "cell_type": "code",
   "execution_count": 5,
   "id": "eab3567f",
   "metadata": {},
   "outputs": [],
   "source": [
    "def create_browser_frame(df):\n",
    "    apps = dict()\n",
    "\n",
    "    for evt in events:\n",
    "        a_list = dict()\n",
    "        for a in browsers:\n",
    "            a_list[a] = df.query(f\"browser == '{a}'\").query(f\"event == '{evt}'\").mean(numeric_only=True)['time']\n",
    "\n",
    "        apps[evt.replace('domManipulation_', '')] = a_list\n",
    "\n",
    "    return pd.DataFrame.from_dict(apps)"
   ]
  },
  {
   "cell_type": "code",
   "execution_count": 6,
   "id": "f4033799",
   "metadata": {},
   "outputs": [],
   "source": [
    "def plot_clustered_stacked(dfall, labels=None, title=\"multiple stacked bar plot\", s=1, H=\"/\", **kwargs):\n",
    "    n_df = len(dfall)\n",
    "    n_col = len(dfall[0].columns)\n",
    "    n_ind = len(dfall[0].index)\n",
    "    plt.cla()\n",
    "    axe = plt.subplot(111)\n",
    "\n",
    "    for df in dfall:  # for each data frame\n",
    "        axe = df.plot(kind=\"bar\",\n",
    "                      linewidth=0,\n",
    "                      stacked=True,\n",
    "                      ax=axe,\n",
    "                      legend=False,\n",
    "                      grid=False,\n",
    "                      zorder=10,\n",
    "                      **kwargs)  # make bar plots\n",
    "\n",
    "    plt.grid(axis='y', linestyle='dashed', zorder=-50)\n",
    "    h, l = axe.get_legend_handles_labels()  # get the handles we want to modify\n",
    "    for i in range(0, n_df * n_col, n_col):  # len(h) = n_col * n_df\n",
    "        for j, pa in enumerate(h[i:i + n_col]):\n",
    "            for rect in pa.patches:  # for each index\n",
    "                rect.set_x(rect.get_x() + 1 / float(n_df + 1) * i / float(n_col))\n",
    "                rect.set_hatch(H * int(i / n_col))  #edited part\n",
    "                rect.set_width(1 / float(n_df + 1))\n",
    "\n",
    "    axe.set_xticks((np.arange(0, 2 * n_ind, 2) + 1 / float(n_df + 1)) / 2.)\n",
    "    axe.set_xticklabels(df.index, rotation=0)\n",
    "    axe.set_xlabel(\"Browsers\")\n",
    "    axe.set_ylabel(\"time in ms\")\n",
    "    axe.set_title(title)\n",
    "\n",
    "    # Add invisible data to add another legend\n",
    "    n = []\n",
    "    for i in range(n_df):\n",
    "        n.append(axe.bar(0, 0, color=\"gray\", hatch=H * i))\n",
    "\n",
    "    l1 = axe.legend(h[:n_col], l[:n_col], loc=[1.01, 0.5])\n",
    "    if labels is not None:\n",
    "        l2 = plt.legend(n, labels, loc=[1.01, 0.1])\n",
    "    else:\n",
    "        l2 = plt.legend(n, [], loc=[1.01, 0.1])\n",
    "\n",
    "    axe.add_artist(l1)\n",
    "    plt.savefig(filename.format(s), bbox_inches=\"tight\", transparent=transparent)\n",
    "    return axe"
   ]
  },
  {
   "cell_type": "markdown",
   "id": "99b5666a",
   "metadata": {},
   "source": [
    "### Plot grouped dataframes as stacked bar chart"
   ]
  },
  {
   "cell_type": "code",
   "execution_count": 7,
   "id": "6c8d7c86",
   "metadata": {
    "scrolled": true
   },
   "outputs": [],
   "source": [
    "if size != None:\n",
    "    all_val = []\n",
    "    for f in frameworks:\n",
    "        all_val.append(create_browser_frame(log_data.query(f\"size == {size}\").query(f\"app == '{f}'\")))\n",
    "\n",
    "    plot_clustered_stacked(\n",
    "        all_val,\n",
    "        labels=frameworks,\n",
    "        title=f\"DOM Manipulation for {size} {'elements' if size != 1 else 'element'}\",\n",
    "        s=size\n",
    "    )"
   ]
  },
  {
   "cell_type": "code",
   "execution_count": 8,
   "id": "5e6dde04",
   "metadata": {},
   "outputs": [
    {
     "data": {
      "image/png": "[encoded data removed]",
      "text/plain": [
       "<Figure size 432x288 with 1 Axes>"
      ]
     },
     "metadata": {
      "needs_background": "light"
     },
     "output_type": "display_data"
    }
   ],
   "source": [
    "for s in sizes:\n",
    "    all_val = []\n",
    "    for f in frameworks:\n",
    "        all_val.append(create_browser_frame(log_data.query(f\"size == {s}\").query(f\"app == '{f}'\")))\n",
    "\n",
    "    plot_clustered_stacked(\n",
    "        all_val,\n",
    "        labels=frameworks,\n",
    "        title=f\"DOM Manipulation for {s} {'elements' if s != 1 else 'element'}\",\n",
    "        s=s\n",
    "    )"
   ]
  }
 ],
 "metadata": {
  "kernelspec": {
   "display_name": "Python 3 (ipykernel)",
   "language": "python",
   "name": "python3"
  },
  "language_info": {
   "codemirror_mode": {
    "name": "ipython",
    "version": 3
   },
   "file_extension": ".py",
   "mimetype": "text/x-python",
   "name": "python",
   "nbconvert_exporter": "python",
   "pygments_lexer": "ipython3",
   "version": "3.9.7"
  }
 },
 "nbformat": 4,
 "nbformat_minor": 5
}
