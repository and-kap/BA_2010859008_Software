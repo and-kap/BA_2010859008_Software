{
 "cells": [
  {
   "cell_type": "markdown",
   "id": "51ac78a7",
   "metadata": {},
   "source": [
    "# Bachelorarbeit - Evaluierung und Vergleich der Front-End Technologien Angular und React\n",
    "## Andreas Kappel, BSWE, 2010859008"
   ]
  },
  {
   "cell_type": "code",
   "execution_count": 2,
   "id": "bfb88e01",
   "metadata": {},
   "outputs": [],
   "source": [
    "# Python ≥3.5 is required\n",
    "import sys\n",
    "assert sys.version_info >= (3, 5)"
   ]
  },
  {
   "cell_type": "code",
   "execution_count": 3,
   "id": "0eca7ed3",
   "metadata": {},
   "outputs": [],
   "source": [
    "import numpy as np\n",
    "import matplotlib.pyplot as plt\n",
    "import pandas as pd\n",
    "import seaborn as sns"
   ]
  },
  {
   "cell_type": "markdown",
   "id": "2063ac5e",
   "metadata": {},
   "source": [
    "### Reading the input file and drop empty entries"
   ]
  },
  {
   "cell_type": "code",
   "execution_count": 29,
   "id": "12b721ef",
   "metadata": {},
   "outputs": [],
   "source": [
    "log_df = pd.read_csv('tti.csv')"
   ]
  },
  {
   "cell_type": "code",
   "execution_count": 30,
   "id": "9b6cff3f",
   "metadata": {},
   "outputs": [
    {
     "data": {
      "text/html": [
       "<div>\n",
       "<style scoped>\n",
       "    .dataframe tbody tr th:only-of-type {\n",
       "        vertical-align: middle;\n",
       "    }\n",
       "\n",
       "    .dataframe tbody tr th {\n",
       "        vertical-align: top;\n",
       "    }\n",
       "\n",
       "    .dataframe thead th {\n",
       "        text-align: right;\n",
       "    }\n",
       "</style>\n",
       "<table border=\"1\" class=\"dataframe\">\n",
       "  <thead>\n",
       "    <tr style=\"text-align: right;\">\n",
       "      <th></th>\n",
       "      <th>app</th>\n",
       "      <th>time</th>\n",
       "      <th>unit</th>\n",
       "    </tr>\n",
       "  </thead>\n",
       "  <tbody>\n",
       "    <tr>\n",
       "      <th>0</th>\n",
       "      <td>angular</td>\n",
       "      <td>565.176</td>\n",
       "      <td>millisecond</td>\n",
       "    </tr>\n",
       "    <tr>\n",
       "      <th>1</th>\n",
       "      <td>angular</td>\n",
       "      <td>560.124</td>\n",
       "      <td>millisecond</td>\n",
       "    </tr>\n",
       "    <tr>\n",
       "      <th>2</th>\n",
       "      <td>angular</td>\n",
       "      <td>562.400</td>\n",
       "      <td>millisecond</td>\n",
       "    </tr>\n",
       "    <tr>\n",
       "      <th>3</th>\n",
       "      <td>angular</td>\n",
       "      <td>558.092</td>\n",
       "      <td>millisecond</td>\n",
       "    </tr>\n",
       "    <tr>\n",
       "      <th>4</th>\n",
       "      <td>angular</td>\n",
       "      <td>561.568</td>\n",
       "      <td>millisecond</td>\n",
       "    </tr>\n",
       "    <tr>\n",
       "      <th>...</th>\n",
       "      <td>...</td>\n",
       "      <td>...</td>\n",
       "      <td>...</td>\n",
       "    </tr>\n",
       "    <tr>\n",
       "      <th>995</th>\n",
       "      <td>react</td>\n",
       "      <td>365.616</td>\n",
       "      <td>millisecond</td>\n",
       "    </tr>\n",
       "    <tr>\n",
       "      <th>996</th>\n",
       "      <td>react</td>\n",
       "      <td>364.557</td>\n",
       "      <td>millisecond</td>\n",
       "    </tr>\n",
       "    <tr>\n",
       "      <th>997</th>\n",
       "      <td>react</td>\n",
       "      <td>364.578</td>\n",
       "      <td>millisecond</td>\n",
       "    </tr>\n",
       "    <tr>\n",
       "      <th>998</th>\n",
       "      <td>react</td>\n",
       "      <td>365.574</td>\n",
       "      <td>millisecond</td>\n",
       "    </tr>\n",
       "    <tr>\n",
       "      <th>999</th>\n",
       "      <td>react</td>\n",
       "      <td>365.460</td>\n",
       "      <td>millisecond</td>\n",
       "    </tr>\n",
       "  </tbody>\n",
       "</table>\n",
       "<p>1000 rows × 3 columns</p>\n",
       "</div>"
      ],
      "text/plain": [
       "         app     time         unit\n",
       "0    angular  565.176  millisecond\n",
       "1    angular  560.124  millisecond\n",
       "2    angular  562.400  millisecond\n",
       "3    angular  558.092  millisecond\n",
       "4    angular  561.568  millisecond\n",
       "..       ...      ...          ...\n",
       "995    react  365.616  millisecond\n",
       "996    react  364.557  millisecond\n",
       "997    react  364.578  millisecond\n",
       "998    react  365.574  millisecond\n",
       "999    react  365.460  millisecond\n",
       "\n",
       "[1000 rows x 3 columns]"
      ]
     },
     "execution_count": 30,
     "metadata": {},
     "output_type": "execute_result"
    }
   ],
   "source": [
    "log_df.dropna()"
   ]
  },
  {
   "cell_type": "markdown",
   "id": "8b48a608",
   "metadata": {},
   "source": [
    "### Group by App and calculate min, max and average"
   ]
  },
  {
   "cell_type": "code",
   "execution_count": 31,
   "id": "f8a0d2f2",
   "metadata": {},
   "outputs": [
    {
     "name": "stdout",
     "output_type": "stream",
     "text": [
      "Info:  (1000, 3) \n",
      "\n"
     ]
    },
    {
     "data": {
      "text/html": [
       "<div>\n",
       "<style scoped>\n",
       "    .dataframe tbody tr th:only-of-type {\n",
       "        vertical-align: middle;\n",
       "    }\n",
       "\n",
       "    .dataframe tbody tr th {\n",
       "        vertical-align: top;\n",
       "    }\n",
       "\n",
       "    .dataframe thead th {\n",
       "        text-align: right;\n",
       "    }\n",
       "</style>\n",
       "<table border=\"1\" class=\"dataframe\">\n",
       "  <thead>\n",
       "    <tr style=\"text-align: right;\">\n",
       "      <th></th>\n",
       "      <th>app</th>\n",
       "      <th>time</th>\n",
       "      <th>unit</th>\n",
       "    </tr>\n",
       "  </thead>\n",
       "  <tbody>\n",
       "    <tr>\n",
       "      <th>0</th>\n",
       "      <td>Angular</td>\n",
       "      <td>565.176</td>\n",
       "      <td>millisecond</td>\n",
       "    </tr>\n",
       "    <tr>\n",
       "      <th>1</th>\n",
       "      <td>Angular</td>\n",
       "      <td>560.124</td>\n",
       "      <td>millisecond</td>\n",
       "    </tr>\n",
       "    <tr>\n",
       "      <th>2</th>\n",
       "      <td>Angular</td>\n",
       "      <td>562.400</td>\n",
       "      <td>millisecond</td>\n",
       "    </tr>\n",
       "    <tr>\n",
       "      <th>3</th>\n",
       "      <td>Angular</td>\n",
       "      <td>558.092</td>\n",
       "      <td>millisecond</td>\n",
       "    </tr>\n",
       "    <tr>\n",
       "      <th>4</th>\n",
       "      <td>Angular</td>\n",
       "      <td>561.568</td>\n",
       "      <td>millisecond</td>\n",
       "    </tr>\n",
       "  </tbody>\n",
       "</table>\n",
       "</div>"
      ],
      "text/plain": [
       "       app     time         unit\n",
       "0  Angular  565.176  millisecond\n",
       "1  Angular  560.124  millisecond\n",
       "2  Angular  562.400  millisecond\n",
       "3  Angular  558.092  millisecond\n",
       "4  Angular  561.568  millisecond"
      ]
     },
     "execution_count": 31,
     "metadata": {},
     "output_type": "execute_result"
    }
   ],
   "source": [
    "labels = {\n",
    "    'angular': 'Angular',\n",
    "    'react': 'React'\n",
    "}\n",
    "\n",
    "print('Info: ', log_df.shape, '\\n')\n",
    "\n",
    "log_df = log_df.replace(labels)\n",
    "log_df.head()"
   ]
  },
  {
   "cell_type": "markdown",
   "id": "99b5666a",
   "metadata": {},
   "source": [
    "### Plot grouped dataframe as bar chart and boxplot"
   ]
  },
  {
   "cell_type": "code",
   "execution_count": 33,
   "id": "a5b4ef84-3c0a-40c3-9165-ae26b71d6eda",
   "metadata": {},
   "outputs": [
    {
     "data": {
      "image/png": "[encoded data removed]",
      "text/plain": [
       "<Figure size 576x216 with 2 Axes>"
      ]
     },
     "metadata": {
      "needs_background": "light"
     },
     "output_type": "display_data"
    }
   ],
   "source": [
    "fig, axs = plt.subplots(1, 2, figsize=(8, 3), gridspec_kw=dict(width_ratios=[1, 1]))\n",
    "fig.tight_layout(w_pad=2.5)\n",
    "\n",
    "sns.barplot(data=log_df, x='app', y='time', ax=axs[0], zorder=10, ci=None)\n",
    "sns.boxplot(data=log_df, x='app', y='time', ax=axs[1], zorder=10, flierprops = dict(markerfacecolor = '0.5', markersize = 3))\n",
    "\n",
    "for idx, ax in enumerate(axs):\n",
    "    ax.set(xlabel='Time to Interactive', ylabel='Zeit in ms')\n",
    "    ax.set(title=f\"{'Balkendiagramm' if idx == 0 else 'Boxplot'}\")\n",
    "\n",
    "    #plt.setp(ax.lines, zorder=5, label=\"\")\n",
    "    ax.grid(axis='y', linestyle='dashed', zorder=0)\n",
    "    ax.set_axisbelow(True)\n",
    "\n",
    "\n",
    "plt.savefig(f\"./charts_v2/plot_tti.png\", bbox_inches=\"tight\", transparent=True)"
   ]
  },
  {
   "cell_type": "code",
   "execution_count": null,
   "id": "d4a6fe4a-fce8-49d8-8db9-4854bc4678aa",
   "metadata": {},
   "outputs": [],
   "source": []
  }
 ],
 "metadata": {
  "kernelspec": {
   "display_name": "Python 3 (ipykernel)",
   "language": "python",
   "name": "python3"
  },
  "language_info": {
   "codemirror_mode": {
    "name": "ipython",
    "version": 3
   },
   "file_extension": ".py",
   "mimetype": "text/x-python",
   "name": "python",
   "nbconvert_exporter": "python",
   "pygments_lexer": "ipython3",
   "version": "3.9.7"
  }
 },
 "nbformat": 4,
 "nbformat_minor": 5
}
